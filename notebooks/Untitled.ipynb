{
 "cells": [
  {
   "cell_type": "code",
   "execution_count": 5,
   "id": "010ed79a-9b0b-47ac-a39d-fa2e8ccf8dec",
   "metadata": {},
   "outputs": [],
   "source": [
    "import yfinance as yf\n",
    "\n"
   ]
  },
  {
   "cell_type": "code",
   "execution_count": 6,
   "id": "bed454ff-32ec-489e-b7a0-61092fc359d8",
   "metadata": {},
   "outputs": [
    {
     "data": {
      "text/plain": [
       "1.2976058721542358"
      ]
     },
     "execution_count": 6,
     "metadata": {},
     "output_type": "execute_result"
    }
   ],
   "source": [
    "fetch_exchange_rate('GBP','USD')"
   ]
  },
  {
   "cell_type": "code",
   "execution_count": null,
   "id": "d468ad6b-144e-4095-be35-147e9722031c",
   "metadata": {},
   "outputs": [],
   "source": []
  }
 ],
 "metadata": {
  "kernelspec": {
   "display_name": "Python 3 (ipykernel)",
   "language": "python",
   "name": "python3"
  },
  "language_info": {
   "codemirror_mode": {
    "name": "ipython",
    "version": 3
   },
   "file_extension": ".py",
   "mimetype": "text/x-python",
   "name": "python",
   "nbconvert_exporter": "python",
   "pygments_lexer": "ipython3",
   "version": "3.11.3"
  }
 },
 "nbformat": 4,
 "nbformat_minor": 5
}
