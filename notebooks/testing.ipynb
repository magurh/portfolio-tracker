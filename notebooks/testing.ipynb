{
 "cells": [
  {
   "cell_type": "code",
   "execution_count": 1,
   "id": "010ed79a-9b0b-47ac-a39d-fa2e8ccf8dec",
   "metadata": {},
   "outputs": [],
   "source": [
    "import yfinance as yf\n",
    "import pandas as pd\n",
    "# import ccxt\n",
    "# import ffn"
   ]
  },
  {
   "cell_type": "code",
   "execution_count": 2,
   "id": "d468ad6b-144e-4095-be35-147e9722031c",
   "metadata": {},
   "outputs": [],
   "source": [
    "import os\n",
    "import sys\n",
    "\n",
    "module_path = os.path.abspath('../') # root directory\n",
    "if module_path not in sys.path:\n",
    "    sys.path.append(module_path)\n",
    "\n",
    "from portfolio_tracker.metrics import Stocks, PortfolioManager\n",
    "from portfolio_tracker.loader import DataLoader\n",
    "from portfolio_tracker.data_fetching import fetch_stock_prices, fetch_crypto_price, fetch_exchange_rate\n",
    "\n",
    "# Manually set paths to data files\n",
    "data_path = module_path + '\\\\data\\\\'\n",
    "\n",
    "type1_PATH = data_path + 'type1.csv'\n",
    "type2_PATH =  data_path + 'type2.csv'\n",
    "type3_PATH =  data_path + 'type3.csv'\n"
   ]
  },
  {
   "cell_type": "code",
   "execution_count": 3,
   "id": "d0b76c3c-1fab-400b-a293-05e021d95363",
   "metadata": {},
   "outputs": [],
   "source": [
    "# Load sample data\n",
    "type1_df = pd.read_csv(type1_PATH)\n",
    "type2_df = pd.read_csv(type2_PATH)\n",
    "type3_df = pd.read_csv(type3_PATH)"
   ]
  },
  {
   "cell_type": "code",
   "execution_count": 15,
   "id": "603f14f2-030a-4504-9390-50d1760daab3",
   "metadata": {},
   "outputs": [
    {
     "data": {
      "text/plain": [
       "{}"
      ]
     },
     "execution_count": 15,
     "metadata": {},
     "output_type": "execute_result"
    }
   ],
   "source": []
  },
  {
   "cell_type": "code",
   "execution_count": 4,
   "id": "369d3c08-b43e-4740-9aa7-3164bf500276",
   "metadata": {},
   "outputs": [
    {
     "data": {
      "text/plain": [
       "{'TSLA': 5.0, 'AAPL': 5.0}"
      ]
     },
     "execution_count": 4,
     "metadata": {},
     "output_type": "execute_result"
    }
   ],
   "source": [
    "# Load data\n",
    "data_loader = DataLoader(type1_PATH, type2_PATH, type3_PATH)\n",
    "type1_data = data_loader.get_type1_data()\n",
    "\n",
    "# Filter only stock transactions\n",
    "stock_transactions = type1_data[type1_data['type_of_asset'] == 'stock']\n",
    "\n",
    "# Process stock transactions and fetch current values\n",
    "stocks = Stocks()\n",
    "stocks.process_transactions(stock_transactions)\n",
    "stocks.get_owned_assets()\n",
    "#\n"
   ]
  },
  {
   "cell_type": "code",
   "execution_count": 5,
   "id": "63a4f20d-4ca1-4233-a196-745b3b353dba",
   "metadata": {},
   "outputs": [
    {
     "data": {
      "text/plain": [
       "{'TSLA': 1038.3499908447266, 'AAPL': 1099.3000030517578}"
      ]
     },
     "execution_count": 5,
     "metadata": {},
     "output_type": "execute_result"
    }
   ],
   "source": [
    "current_stock_values = stocks.fetch_current_values()\n",
    "current_stock_values"
   ]
  },
  {
   "cell_type": "code",
   "execution_count": 6,
   "id": "498808ce-05f1-4b41-b417-54f7bb132423",
   "metadata": {},
   "outputs": [
    {
     "name": "stdout",
     "output_type": "stream",
     "text": [
      "Current Portfolio Value:  2137.6499938964844\n",
      "Stock Percentages of Portfolio:  {'TSLA': 48.57436876053006, 'AAPL': 51.42563123946995}\n"
     ]
    }
   ],
   "source": [
    "portfolio_manager = PortfolioManager(stock_transactions)\n",
    "print(\"Current Portfolio Value: \", portfolio_manager.current_portfolio_value())\n",
    "print(\"Stock Percentages of Portfolio: \", portfolio_manager.stock_percentage_of_portfolio())"
   ]
  },
  {
   "cell_type": "code",
   "execution_count": null,
   "id": "e07479b8-5106-4c26-b6d3-d0befd257932",
   "metadata": {},
   "outputs": [],
   "source": []
  }
 ],
 "metadata": {
  "kernelspec": {
   "display_name": "Python 3 (ipykernel)",
   "language": "python",
   "name": "python3"
  },
  "language_info": {
   "codemirror_mode": {
    "name": "ipython",
    "version": 3
   },
   "file_extension": ".py",
   "mimetype": "text/x-python",
   "name": "python",
   "nbconvert_exporter": "python",
   "pygments_lexer": "ipython3",
   "version": "3.12.4"
  }
 },
 "nbformat": 4,
 "nbformat_minor": 5
}
