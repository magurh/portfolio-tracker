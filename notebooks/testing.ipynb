{
 "cells": [
  {
   "cell_type": "code",
   "execution_count": 1,
   "id": "d468ad6b-144e-4095-be35-147e9722031c",
   "metadata": {},
   "outputs": [],
   "source": [
    "import yfinance as yf\n",
    "import pandas as pd\n",
    "\n",
    "# import ccxt\n",
    "# import ffn\n",
    "import os\n",
    "import sys\n",
    "\n",
    "module_path = os.path.abspath('../') # root directory\n",
    "if module_path not in sys.path:\n",
    "    sys.path.append(module_path)\n",
    "\n",
    "from portfolio_tracker.manager import Stocks, PortfolioManager\n",
    "from portfolio_tracker.loader import DataLoader\n",
    "from portfolio_tracker.data_fetching import fetch_stock_prices, fetch_crypto_price, fetch_exchange_rate\n",
    "\n",
    "\n",
    "# Manually set paths to data files\n",
    "data_path = module_path + '\\\\data\\\\personal_data\\\\'\n",
    "\n",
    "type1_PATH = data_path + 'type1.csv'\n",
    "type2_PATH =  data_path + 'type2.csv'\n",
    "type3_PATH =  data_path + 'type3.csv'\n"
   ]
  },
  {
   "cell_type": "code",
   "execution_count": 2,
   "id": "d0b76c3c-1fab-400b-a293-05e021d95363",
   "metadata": {},
   "outputs": [],
   "source": [
    "# Load sample data\n",
    "type1_df = pd.read_csv(type1_PATH)\n",
    "# type2_df = pd.read_csv(type2_PATH)\n",
    "# type3_df = pd.read_csv(type3_PATH)"
   ]
  },
  {
   "cell_type": "markdown",
   "id": "803f0b2d-4372-4f2d-a884-d02e629bbdd7",
   "metadata": {
    "jp-MarkdownHeadingCollapsed": true
   },
   "source": [
    "### Add data"
   ]
  },
  {
   "cell_type": "code",
   "execution_count": 27,
   "id": "d14bd129-4d09-4c09-8a25-e8be0b15a602",
   "metadata": {},
   "outputs": [
    {
     "data": {
      "text/html": [
       "<div>\n",
       "<style scoped>\n",
       "    .dataframe tbody tr th:only-of-type {\n",
       "        vertical-align: middle;\n",
       "    }\n",
       "\n",
       "    .dataframe tbody tr th {\n",
       "        vertical-align: top;\n",
       "    }\n",
       "\n",
       "    .dataframe thead th {\n",
       "        text-align: right;\n",
       "    }\n",
       "</style>\n",
       "<table border=\"1\" class=\"dataframe\">\n",
       "  <thead>\n",
       "    <tr style=\"text-align: right;\">\n",
       "      <th></th>\n",
       "      <th>date</th>\n",
       "      <th>security</th>\n",
       "      <th>type_of_asset</th>\n",
       "      <th>action</th>\n",
       "      <th>quantity</th>\n",
       "      <th>total_transaction_price_usd</th>\n",
       "    </tr>\n",
       "  </thead>\n",
       "  <tbody>\n",
       "    <tr>\n",
       "      <th>0</th>\n",
       "      <td>01/01/2023</td>\n",
       "      <td>TSLA</td>\n",
       "      <td>stock</td>\n",
       "      <td>buy</td>\n",
       "      <td>10.0</td>\n",
       "      <td>650</td>\n",
       "    </tr>\n",
       "    <tr>\n",
       "      <th>1</th>\n",
       "      <td>01/02/2023</td>\n",
       "      <td>AAPL</td>\n",
       "      <td>stock</td>\n",
       "      <td>buy</td>\n",
       "      <td>5.0</td>\n",
       "      <td>50</td>\n",
       "    </tr>\n",
       "    <tr>\n",
       "      <th>2</th>\n",
       "      <td>01/03/2023</td>\n",
       "      <td>BTC</td>\n",
       "      <td>crypto</td>\n",
       "      <td>buy</td>\n",
       "      <td>0.2</td>\n",
       "      <td>3000</td>\n",
       "    </tr>\n",
       "    <tr>\n",
       "      <th>3</th>\n",
       "      <td>01/04/2023</td>\n",
       "      <td>VOO</td>\n",
       "      <td>index fund</td>\n",
       "      <td>buy</td>\n",
       "      <td>15.0</td>\n",
       "      <td>4500</td>\n",
       "    </tr>\n",
       "    <tr>\n",
       "      <th>4</th>\n",
       "      <td>01/05/2023</td>\n",
       "      <td>ETH</td>\n",
       "      <td>crypto</td>\n",
       "      <td>sell</td>\n",
       "      <td>0.1</td>\n",
       "      <td>2500</td>\n",
       "    </tr>\n",
       "    <tr>\n",
       "      <th>5</th>\n",
       "      <td>01/06/2023</td>\n",
       "      <td>TSLA</td>\n",
       "      <td>stock</td>\n",
       "      <td>sell</td>\n",
       "      <td>5.0</td>\n",
       "      <td>325</td>\n",
       "    </tr>\n",
       "    <tr>\n",
       "      <th>6</th>\n",
       "      <td>01/08/2023</td>\n",
       "      <td>TSLA</td>\n",
       "      <td>stock</td>\n",
       "      <td>buy</td>\n",
       "      <td>3.0</td>\n",
       "      <td>310</td>\n",
       "    </tr>\n",
       "    <tr>\n",
       "      <th>7</th>\n",
       "      <td>01/20/2023</td>\n",
       "      <td>TSLA</td>\n",
       "      <td>stock</td>\n",
       "      <td>sell</td>\n",
       "      <td>4.0</td>\n",
       "      <td>810</td>\n",
       "    </tr>\n",
       "  </tbody>\n",
       "</table>\n",
       "</div>"
      ],
      "text/plain": [
       "         date security type_of_asset action  quantity  \\\n",
       "0  01/01/2023     TSLA         stock    buy      10.0   \n",
       "1  01/02/2023     AAPL         stock    buy       5.0   \n",
       "2  01/03/2023      BTC        crypto    buy       0.2   \n",
       "3  01/04/2023      VOO    index fund    buy      15.0   \n",
       "4  01/05/2023      ETH        crypto   sell       0.1   \n",
       "5  01/06/2023     TSLA         stock   sell       5.0   \n",
       "6  01/08/2023     TSLA         stock    buy       3.0   \n",
       "7  01/20/2023     TSLA         stock   sell       4.0   \n",
       "\n",
       "   total_transaction_price_usd  \n",
       "0                          650  \n",
       "1                           50  \n",
       "2                         3000  \n",
       "3                         4500  \n",
       "4                         2500  \n",
       "5                          325  \n",
       "6                          310  \n",
       "7                          810  "
      ]
     },
     "execution_count": 27,
     "metadata": {},
     "output_type": "execute_result"
    }
   ],
   "source": [
    "type1_df"
   ]
  },
  {
   "cell_type": "code",
   "execution_count": 25,
   "id": "7809e24d-a315-46cf-b91b-0e95bcdb9fbb",
   "metadata": {},
   "outputs": [],
   "source": [
    "from csv import DictWriter\n",
    "\n",
    "field_names = list(type1_df.columns)\n",
    "# Dictionary that we want to add as a new row\n",
    "dict = {'date': '01/20/2023', 'security': 'TSLA', 'type_of_asset': 'stock', 'action': 'sell', 'quantity': 4, 'total_transaction_price_usd': 810}\n",
    " \n",
    "# Open CSV file in append mode\n",
    "# Create a file object for this file\n",
    "with open(type1_PATH, 'a') as f_object:\n",
    " \n",
    "    # Pass the file object and a list\n",
    "    # of column names to DictWriter()\n",
    "    # You will get a object of DictWriter\n",
    "    dictwriter_object = DictWriter(f_object, fieldnames=field_names)\n",
    " \n",
    "    # Pass the dictionary as an argument to the Writerow()\n",
    "    dictwriter_object.writerow(dict)\n",
    " \n",
    "    # Close the file object\n",
    "    f_object.close()"
   ]
  },
  {
   "cell_type": "markdown",
   "id": "4adaa321-3580-4886-87c2-2909be0e75ed",
   "metadata": {},
   "source": [
    "# Instructions"
   ]
  },
  {
   "cell_type": "code",
   "execution_count": 15,
   "id": "603f14f2-030a-4504-9390-50d1760daab3",
   "metadata": {},
   "outputs": [
    {
     "data": {
      "text/plain": [
       "{}"
      ]
     },
     "execution_count": 15,
     "metadata": {},
     "output_type": "execute_result"
    }
   ],
   "source": [
    "1. DataLoader class from portfolio_tracker.loader -- a class for loading the three types of data\n",
    "2. "
   ]
  },
  {
   "cell_type": "code",
   "execution_count": 6,
   "id": "61ebb34e-512a-4aa4-8beb-0315ab3cd7b9",
   "metadata": {},
   "outputs": [
    {
     "data": {
      "text/plain": [
       "'189.73'"
      ]
     },
     "execution_count": 6,
     "metadata": {},
     "output_type": "execute_result"
    }
   ],
   "source": [
    "type1_df['price_per_share'].iloc[0]"
   ]
  },
  {
   "cell_type": "code",
   "execution_count": 2,
   "id": "369d3c08-b43e-4740-9aa7-3164bf500276",
   "metadata": {},
   "outputs": [
    {
     "name": "stdout",
     "output_type": "stream",
     "text": [
      "{'RTX': 20.0, 'INTC': 8.0, 'MSFT': 5.0, 'RUN': 11.0, 'NEE': 2.0, 'JKS': 6.0, 'GME': 45.0, 'CHK': 5.0, 'BHP': 10.0}\n"
     ]
    },
    {
     "data": {
      "text/plain": [
       "(1755.5794999999998,\n",
       " {'SPOT': 7.460000000000008,\n",
       "  'NVDA': 45.467999999999975,\n",
       "  'ADBE': 6.1200000000000045,\n",
       "  'GOOG': 42.90999999999997,\n",
       "  'MSFT': 24.110000000000014,\n",
       "  'ELAN': 7.199999999999989,\n",
       "  'CRWD': 8.130000000000024,\n",
       "  'REGI': 303.71999999999997,\n",
       "  'DOCU': 4.711499999999987,\n",
       "  'ULTA': 128.51,\n",
       "  'LNG': 291.5199999999999,\n",
       "  'TSLA': -33.819999999999936,\n",
       "  'BA': 38.60000000000002,\n",
       "  'AMC': 54.800000000000004,\n",
       "  'NFLX': 406.56,\n",
       "  'GOOGL': 224.92000000000002,\n",
       "  'ALL': 183.01999999999998,\n",
       "  'BTU': 57.799999999999976,\n",
       "  'ABNB': -46.16})"
      ]
     },
     "execution_count": 2,
     "metadata": {},
     "output_type": "execute_result"
    }
   ],
   "source": [
    "# Load data\n",
    "data_loader = DataLoader(type1_PATH)\n",
    "type1_data = data_loader.get_type1_data()\n",
    "\n",
    "# Filter only stock transactions\n",
    "stock_transactions = type1_data[type1_data['type_of_asset'] == 'stock']\n",
    "\n",
    "# Process stock transactions and fetch current values\n",
    "stocks = Stocks()\n",
    "stocks.process_transactions(stock_transactions)\n",
    "print(stocks.get_owned_assets())\n",
    "stocks.get_realized_gains()\n"
   ]
  },
  {
   "cell_type": "code",
   "execution_count": 3,
   "id": "63a4f20d-4ca1-4233-a196-745b3b353dba",
   "metadata": {},
   "outputs": [
    {
     "data": {
      "text/plain": [
       "({'RTX': np.float64(2466.7999267578125),\n",
       "  'INTC': np.float64(176.32000732421875),\n",
       "  'MSFT': np.float64(2085.7000732421875),\n",
       "  'RUN': np.float64(225.7200050354004),\n",
       "  'NEE': np.float64(161.02000427246094),\n",
       "  'JKS': np.float64(114.83999633789062),\n",
       "  'GME': np.float64(1053.9000034332275),\n",
       "  'CHK': np.float64(372.44998931884766),\n",
       "  'BHP': np.float64(551.3000106811523)},\n",
       " {'RTX': np.float64(1007.8499267578125),\n",
       "  'INTC': np.float64(-219.11999267578125),\n",
       "  'MSFT': np.float64(838.2900732421876),\n",
       "  'RUN': np.float64(-239.70999496459956),\n",
       "  'NEE': np.float64(11.06000427246093),\n",
       "  'JKS': np.float64(-308.6800036621094),\n",
       "  'GME': np.float64(-652.0999965667725),\n",
       "  'CHK': np.float64(-147.7500106811524),\n",
       "  'BHP': np.float64(-105.29998931884757)})"
      ]
     },
     "execution_count": 3,
     "metadata": {},
     "output_type": "execute_result"
    }
   ],
   "source": [
    "current_stock_values = stocks.fetch_current_values()\n",
    "current_stock_values"
   ]
  },
  {
   "cell_type": "code",
   "execution_count": 4,
   "id": "498808ce-05f1-4b41-b417-54f7bb132423",
   "metadata": {},
   "outputs": [
    {
     "name": "stdout",
     "output_type": "stream",
     "text": [
      "Current Portfolio Value:  7208.050016403198\n",
      "Stock Percentages of Portfolio:  {'RTX': np.float64(34.22284697170762), 'INTC': np.float64(2.4461540489171307), 'MSFT': np.float64(28.93570478140144), 'RUN': np.float64(3.1314988730895927), 'NEE': np.float64(2.2338913285289546), 'JKS': np.float64(1.59321863855761), 'GME': np.float64(14.621152753309023), 'CHK': np.float64(5.167139357680254), 'BHP': np.float64(7.648393246808377)}\n"
     ]
    }
   ],
   "source": [
    "portfolio_manager = PortfolioManager(stock_transactions)\n",
    "print(\"Current Portfolio Value: \", portfolio_manager.current_portfolio_value())\n",
    "print(\"Stock Percentages of Portfolio: \", portfolio_manager.stock_percentage_of_portfolio())"
   ]
  },
  {
   "cell_type": "code",
   "execution_count": null,
   "id": "c87fe11a-c032-4ba9-8ea9-48bb8124c009",
   "metadata": {},
   "outputs": [],
   "source": []
  }
 ],
 "metadata": {
  "kernelspec": {
   "display_name": "Python 3 (ipykernel)",
   "language": "python",
   "name": "python3"
  },
  "language_info": {
   "codemirror_mode": {
    "name": "ipython",
    "version": 3
   },
   "file_extension": ".py",
   "mimetype": "text/x-python",
   "name": "python",
   "nbconvert_exporter": "python",
   "pygments_lexer": "ipython3",
   "version": "3.12.4"
  }
 },
 "nbformat": 4,
 "nbformat_minor": 5
}
