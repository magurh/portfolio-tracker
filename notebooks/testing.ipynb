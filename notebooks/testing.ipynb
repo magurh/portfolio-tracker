{
 "cells": [
  {
   "cell_type": "code",
   "execution_count": 3,
   "id": "d468ad6b-144e-4095-be35-147e9722031c",
   "metadata": {},
   "outputs": [],
   "source": [
    "import yfinance as yf\n",
    "import pandas as pd\n",
    "\n",
    "# import ccxt\n",
    "# import ffn\n",
    "import os\n",
    "import sys\n",
    "\n",
    "module_path = os.path.abspath('../') # root directory\n",
    "if module_path not in sys.path:\n",
    "    sys.path.append(module_path)\n",
    "\n",
    "# from portfolio_tracker.metrics import Stocks, PortfolioManager\n",
    "from portfolio_tracker.loader import DataLoader\n",
    "from portfolio_tracker.data_fetching import fetch_stock_prices, fetch_crypto_price, fetch_exchange_rate\n",
    "\n",
    "# Manually set paths to data files\n",
    "data_path = module_path + '\\\\data\\\\'\n",
    "\n",
    "type1_PATH = data_path + 'type1.csv'\n",
    "type2_PATH =  data_path + 'type2.csv'\n",
    "type3_PATH =  data_path + 'type3.csv'\n"
   ]
  },
  {
   "cell_type": "code",
   "execution_count": 26,
   "id": "d0b76c3c-1fab-400b-a293-05e021d95363",
   "metadata": {},
   "outputs": [],
   "source": [
    "# Load sample data\n",
    "type1_df = pd.read_csv(type1_PATH)\n",
    "type2_df = pd.read_csv(type2_PATH)\n",
    "type3_df = pd.read_csv(type3_PATH)"
   ]
  },
  {
   "cell_type": "markdown",
   "id": "803f0b2d-4372-4f2d-a884-d02e629bbdd7",
   "metadata": {
    "jp-MarkdownHeadingCollapsed": true
   },
   "source": [
    "### Add data"
   ]
  },
  {
   "cell_type": "code",
   "execution_count": 27,
   "id": "d14bd129-4d09-4c09-8a25-e8be0b15a602",
   "metadata": {},
   "outputs": [
    {
     "data": {
      "text/html": [
       "<div>\n",
       "<style scoped>\n",
       "    .dataframe tbody tr th:only-of-type {\n",
       "        vertical-align: middle;\n",
       "    }\n",
       "\n",
       "    .dataframe tbody tr th {\n",
       "        vertical-align: top;\n",
       "    }\n",
       "\n",
       "    .dataframe thead th {\n",
       "        text-align: right;\n",
       "    }\n",
       "</style>\n",
       "<table border=\"1\" class=\"dataframe\">\n",
       "  <thead>\n",
       "    <tr style=\"text-align: right;\">\n",
       "      <th></th>\n",
       "      <th>date</th>\n",
       "      <th>security</th>\n",
       "      <th>type_of_asset</th>\n",
       "      <th>action</th>\n",
       "      <th>quantity</th>\n",
       "      <th>total_transaction_price_usd</th>\n",
       "    </tr>\n",
       "  </thead>\n",
       "  <tbody>\n",
       "    <tr>\n",
       "      <th>0</th>\n",
       "      <td>01/01/2023</td>\n",
       "      <td>TSLA</td>\n",
       "      <td>stock</td>\n",
       "      <td>buy</td>\n",
       "      <td>10.0</td>\n",
       "      <td>650</td>\n",
       "    </tr>\n",
       "    <tr>\n",
       "      <th>1</th>\n",
       "      <td>01/02/2023</td>\n",
       "      <td>AAPL</td>\n",
       "      <td>stock</td>\n",
       "      <td>buy</td>\n",
       "      <td>5.0</td>\n",
       "      <td>50</td>\n",
       "    </tr>\n",
       "    <tr>\n",
       "      <th>2</th>\n",
       "      <td>01/03/2023</td>\n",
       "      <td>BTC</td>\n",
       "      <td>crypto</td>\n",
       "      <td>buy</td>\n",
       "      <td>0.2</td>\n",
       "      <td>3000</td>\n",
       "    </tr>\n",
       "    <tr>\n",
       "      <th>3</th>\n",
       "      <td>01/04/2023</td>\n",
       "      <td>VOO</td>\n",
       "      <td>index fund</td>\n",
       "      <td>buy</td>\n",
       "      <td>15.0</td>\n",
       "      <td>4500</td>\n",
       "    </tr>\n",
       "    <tr>\n",
       "      <th>4</th>\n",
       "      <td>01/05/2023</td>\n",
       "      <td>ETH</td>\n",
       "      <td>crypto</td>\n",
       "      <td>sell</td>\n",
       "      <td>0.1</td>\n",
       "      <td>2500</td>\n",
       "    </tr>\n",
       "    <tr>\n",
       "      <th>5</th>\n",
       "      <td>01/06/2023</td>\n",
       "      <td>TSLA</td>\n",
       "      <td>stock</td>\n",
       "      <td>sell</td>\n",
       "      <td>5.0</td>\n",
       "      <td>325</td>\n",
       "    </tr>\n",
       "    <tr>\n",
       "      <th>6</th>\n",
       "      <td>01/08/2023</td>\n",
       "      <td>TSLA</td>\n",
       "      <td>stock</td>\n",
       "      <td>buy</td>\n",
       "      <td>3.0</td>\n",
       "      <td>310</td>\n",
       "    </tr>\n",
       "    <tr>\n",
       "      <th>7</th>\n",
       "      <td>01/20/2023</td>\n",
       "      <td>TSLA</td>\n",
       "      <td>stock</td>\n",
       "      <td>sell</td>\n",
       "      <td>4.0</td>\n",
       "      <td>810</td>\n",
       "    </tr>\n",
       "  </tbody>\n",
       "</table>\n",
       "</div>"
      ],
      "text/plain": [
       "         date security type_of_asset action  quantity  \\\n",
       "0  01/01/2023     TSLA         stock    buy      10.0   \n",
       "1  01/02/2023     AAPL         stock    buy       5.0   \n",
       "2  01/03/2023      BTC        crypto    buy       0.2   \n",
       "3  01/04/2023      VOO    index fund    buy      15.0   \n",
       "4  01/05/2023      ETH        crypto   sell       0.1   \n",
       "5  01/06/2023     TSLA         stock   sell       5.0   \n",
       "6  01/08/2023     TSLA         stock    buy       3.0   \n",
       "7  01/20/2023     TSLA         stock   sell       4.0   \n",
       "\n",
       "   total_transaction_price_usd  \n",
       "0                          650  \n",
       "1                           50  \n",
       "2                         3000  \n",
       "3                         4500  \n",
       "4                         2500  \n",
       "5                          325  \n",
       "6                          310  \n",
       "7                          810  "
      ]
     },
     "execution_count": 27,
     "metadata": {},
     "output_type": "execute_result"
    }
   ],
   "source": [
    "type1_df"
   ]
  },
  {
   "cell_type": "code",
   "execution_count": 25,
   "id": "7809e24d-a315-46cf-b91b-0e95bcdb9fbb",
   "metadata": {},
   "outputs": [],
   "source": [
    "from csv import DictWriter\n",
    "\n",
    "field_names = list(type1_df.columns)\n",
    "# Dictionary that we want to add as a new row\n",
    "dict = {'date': '01/20/2023', 'security': 'TSLA', 'type_of_asset': 'stock', 'action': 'sell', 'quantity': 4, 'total_transaction_price_usd': 810}\n",
    " \n",
    "# Open CSV file in append mode\n",
    "# Create a file object for this file\n",
    "with open(type1_PATH, 'a') as f_object:\n",
    " \n",
    "    # Pass the file object and a list\n",
    "    # of column names to DictWriter()\n",
    "    # You will get a object of DictWriter\n",
    "    dictwriter_object = DictWriter(f_object, fieldnames=field_names)\n",
    " \n",
    "    # Pass the dictionary as an argument to the Writerow()\n",
    "    dictwriter_object.writerow(dict)\n",
    " \n",
    "    # Close the file object\n",
    "    f_object.close()"
   ]
  },
  {
   "cell_type": "markdown",
   "id": "4adaa321-3580-4886-87c2-2909be0e75ed",
   "metadata": {},
   "source": [
    "# Instructions"
   ]
  },
  {
   "cell_type": "code",
   "execution_count": 15,
   "id": "603f14f2-030a-4504-9390-50d1760daab3",
   "metadata": {},
   "outputs": [
    {
     "data": {
      "text/plain": [
       "{}"
      ]
     },
     "execution_count": 15,
     "metadata": {},
     "output_type": "execute_result"
    }
   ],
   "source": [
    "1. DataLoader class from portfolio_tracker.loader -- a class for loading the three types of data\n",
    "2. "
   ]
  },
  {
   "cell_type": "code",
   "execution_count": 34,
   "id": "61ebb34e-512a-4aa4-8beb-0315ab3cd7b9",
   "metadata": {},
   "outputs": [
    {
     "data": {
      "text/html": [
       "<div>\n",
       "<style scoped>\n",
       "    .dataframe tbody tr th:only-of-type {\n",
       "        vertical-align: middle;\n",
       "    }\n",
       "\n",
       "    .dataframe tbody tr th {\n",
       "        vertical-align: top;\n",
       "    }\n",
       "\n",
       "    .dataframe thead th {\n",
       "        text-align: right;\n",
       "    }\n",
       "</style>\n",
       "<table border=\"1\" class=\"dataframe\">\n",
       "  <thead>\n",
       "    <tr style=\"text-align: right;\">\n",
       "      <th></th>\n",
       "      <th>date</th>\n",
       "      <th>security</th>\n",
       "      <th>type_of_asset</th>\n",
       "      <th>action</th>\n",
       "      <th>quantity</th>\n",
       "      <th>total_transaction_price_usd</th>\n",
       "    </tr>\n",
       "  </thead>\n",
       "  <tbody>\n",
       "    <tr>\n",
       "      <th>0</th>\n",
       "      <td>01/01/2023</td>\n",
       "      <td>TSLA</td>\n",
       "      <td>stock</td>\n",
       "      <td>buy</td>\n",
       "      <td>10.0</td>\n",
       "      <td>650</td>\n",
       "    </tr>\n",
       "    <tr>\n",
       "      <th>1</th>\n",
       "      <td>01/02/2023</td>\n",
       "      <td>AAPL</td>\n",
       "      <td>stock</td>\n",
       "      <td>buy</td>\n",
       "      <td>5.0</td>\n",
       "      <td>50</td>\n",
       "    </tr>\n",
       "    <tr>\n",
       "      <th>5</th>\n",
       "      <td>01/06/2023</td>\n",
       "      <td>TSLA</td>\n",
       "      <td>stock</td>\n",
       "      <td>sell</td>\n",
       "      <td>5.0</td>\n",
       "      <td>325</td>\n",
       "    </tr>\n",
       "    <tr>\n",
       "      <th>6</th>\n",
       "      <td>01/08/2023</td>\n",
       "      <td>TSLA</td>\n",
       "      <td>stock</td>\n",
       "      <td>buy</td>\n",
       "      <td>3.0</td>\n",
       "      <td>310</td>\n",
       "    </tr>\n",
       "    <tr>\n",
       "      <th>7</th>\n",
       "      <td>01/20/2023</td>\n",
       "      <td>TSLA</td>\n",
       "      <td>stock</td>\n",
       "      <td>sell</td>\n",
       "      <td>4.0</td>\n",
       "      <td>810</td>\n",
       "    </tr>\n",
       "  </tbody>\n",
       "</table>\n",
       "</div>"
      ],
      "text/plain": [
       "         date security type_of_asset action  quantity  \\\n",
       "0  01/01/2023     TSLA         stock    buy      10.0   \n",
       "1  01/02/2023     AAPL         stock    buy       5.0   \n",
       "5  01/06/2023     TSLA         stock   sell       5.0   \n",
       "6  01/08/2023     TSLA         stock    buy       3.0   \n",
       "7  01/20/2023     TSLA         stock   sell       4.0   \n",
       "\n",
       "   total_transaction_price_usd  \n",
       "0                          650  \n",
       "1                           50  \n",
       "5                          325  \n",
       "6                          310  \n",
       "7                          810  "
      ]
     },
     "execution_count": 34,
     "metadata": {},
     "output_type": "execute_result"
    }
   ],
   "source": [
    "type1_df[type1_df['type_of_asset'] == 'stock']"
   ]
  },
  {
   "cell_type": "code",
   "execution_count": 35,
   "id": "e01f62fd-59f8-4b8d-ac9d-60e8fcc48a5f",
   "metadata": {},
   "outputs": [
    {
     "data": {
      "text/plain": [
       "{'TSLA': np.float64(209.2100067138672), 'AAPL': np.float64(228.02999877929688)}"
      ]
     },
     "execution_count": 35,
     "metadata": {},
     "output_type": "execute_result"
    }
   ],
   "source": [
    "fetch_stock_prices(['TSLA', 'AAPL'])"
   ]
  },
  {
   "cell_type": "code",
   "execution_count": null,
   "id": "16e50d38-7420-475b-b513-b74c633c7924",
   "metadata": {},
   "outputs": [],
   "source": [
    "AAPL: 228*5 - 50 = 1090 UNREALIZED\n",
    "TSLA: (325 - (650/10)*5) + (810 - 650/10*4) = 550 REALIZED\n",
    "TSLA: 209*4 - (65 + 310) = 461 UNREALIZED"
   ]
  },
  {
   "cell_type": "code",
   "execution_count": 30,
   "id": "369d3c08-b43e-4740-9aa7-3164bf500276",
   "metadata": {},
   "outputs": [
    {
     "data": {
      "text/plain": [
       "(550.0, {'TSLA': 550.0})"
      ]
     },
     "execution_count": 30,
     "metadata": {},
     "output_type": "execute_result"
    }
   ],
   "source": [
    "# Load data\n",
    "data_loader = DataLoader(type1_PATH, type2_PATH, type3_PATH)\n",
    "type1_data = data_loader.get_type1_data()\n",
    "\n",
    "# Filter only stock transactions\n",
    "stock_transactions = type1_data[type1_data['type_of_asset'] == 'stock']\n",
    "\n",
    "# Process stock transactions and fetch current values\n",
    "stocks = Stocks()\n",
    "stocks.process_transactions(stock_transactions)\n",
    "# stocks.get_owned_assets()\n",
    "stocks.get_realized_gains()\n"
   ]
  },
  {
   "cell_type": "code",
   "execution_count": 43,
   "id": "68f12dae-dfc4-4a15-b9d9-4649146d66a2",
   "metadata": {},
   "outputs": [
    {
     "data": {
      "text/plain": [
       "({'TSLA': np.float64(836.8400268554688),\n",
       "  'AAPL': np.float64(1140.1499938964844)},\n",
       " {'TSLA': np.float64(461.84002685546875),\n",
       "  'AAPL': np.float64(1090.1499938964844)})"
      ]
     },
     "execution_count": 43,
     "metadata": {},
     "output_type": "execute_result"
    }
   ],
   "source": [
    "stocks.fetch_current_values()"
   ]
  },
  {
   "cell_type": "code",
   "execution_count": 5,
   "id": "63a4f20d-4ca1-4233-a196-745b3b353dba",
   "metadata": {},
   "outputs": [
    {
     "data": {
      "text/plain": [
       "{'TSLA': 1038.3499908447266, 'AAPL': 1099.3000030517578}"
      ]
     },
     "execution_count": 5,
     "metadata": {},
     "output_type": "execute_result"
    }
   ],
   "source": [
    "current_stock_values = stocks.fetch_current_values()\n",
    "current_stock_values"
   ]
  },
  {
   "cell_type": "code",
   "execution_count": 6,
   "id": "498808ce-05f1-4b41-b417-54f7bb132423",
   "metadata": {},
   "outputs": [
    {
     "name": "stdout",
     "output_type": "stream",
     "text": [
      "Current Portfolio Value:  2137.6499938964844\n",
      "Stock Percentages of Portfolio:  {'TSLA': 48.57436876053006, 'AAPL': 51.42563123946995}\n"
     ]
    }
   ],
   "source": [
    "portfolio_manager = PortfolioManager(stock_transactions)\n",
    "print(\"Current Portfolio Value: \", portfolio_manager.current_portfolio_value())\n",
    "print(\"Stock Percentages of Portfolio: \", portfolio_manager.stock_percentage_of_portfolio())"
   ]
  }
 ],
 "metadata": {
  "kernelspec": {
   "display_name": "Python 3 (ipykernel)",
   "language": "python",
   "name": "python3"
  },
  "language_info": {
   "codemirror_mode": {
    "name": "ipython",
    "version": 3
   },
   "file_extension": ".py",
   "mimetype": "text/x-python",
   "name": "python",
   "nbconvert_exporter": "python",
   "pygments_lexer": "ipython3",
   "version": "3.12.4"
  }
 },
 "nbformat": 4,
 "nbformat_minor": 5
}
